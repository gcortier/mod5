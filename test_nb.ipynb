{
 "cells": [
  {
   "cell_type": "code",
   "execution_count": 2,
   "id": "c21de6b3",
   "metadata": {},
   "outputs": [
    {
     "name": "stdout",
     "output_type": "stream",
     "text": [
      "Embed envoyé avec succès !\n"
     ]
    }
   ],
   "source": [
    "import requests\n",
    "\n",
    "DISCORD_WEBHOOK_URL = \"https://discord.com/api/webhooks/1389914464098193519/jvblBIhmcirp5q6qIYsdxOggqR8b0Pa-ZfgCk_XOMEP3EuShYRulFIlRqXaCB1gJfkBb\"\n",
    "\n",
    "\n",
    "def send_discord_embed(message):\n",
    "    \"\"\"Envoyer un message à un canal Discord via un Webhook.\"\"\"\n",
    "    data = {\"embeds\": [{\n",
    "                \"title\": \"Résultats du pipeline\",\n",
    "                \"description\": message,\n",
    "                \"color\": 5814783,\n",
    "                \"fields\": [{\n",
    "                        \"name\": \"Status\",\n",
    "                        \"value\": \"Succès\",\n",
    "                        \"inline\": True\n",
    "                    }]}]}\n",
    "    response = requests.post(DISCORD_WEBHOOK_URL, json=data)\n",
    "    if response.status_code != 204:\n",
    "        print(f\"Erreur lors de l'envoi de l'embed : {response.status_code}\")\n",
    "    else:\n",
    "        print(\"Embed envoyé avec succès !\")\n",
    "send_discord_embed(\"Aurais je bientot fini le dernier module ? \")"
   ]
  }
 ],
 "metadata": {
  "kernelspec": {
   "display_name": ".venv",
   "language": "python",
   "name": "python3"
  },
  "language_info": {
   "codemirror_mode": {
    "name": "ipython",
    "version": 3
   },
   "file_extension": ".py",
   "mimetype": "text/x-python",
   "name": "python",
   "nbconvert_exporter": "python",
   "pygments_lexer": "ipython3",
   "version": "3.10.0"
  }
 },
 "nbformat": 4,
 "nbformat_minor": 5
}
